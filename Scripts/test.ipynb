{
 "cells": [
  {
   "cell_type": "code",
   "execution_count": 51,
   "metadata": {},
   "outputs": [],
   "source": [
    "import pandas as pd\n",
    "import matplotlib\n",
    "import matplotlib.pyplot as plt\n",
    "import seaborn as sns"
   ]
  },
  {
   "cell_type": "code",
   "execution_count": 47,
   "metadata": {},
   "outputs": [],
   "source": [
    "df = pd.read_csv(\"police_deaths_USA_v6.csv\")"
   ]
  },
  {
   "cell_type": "code",
   "execution_count": 18,
   "metadata": {},
   "outputs": [
    {
     "data": {
      "text/html": [
       "<div>\n",
       "<style scoped>\n",
       "    .dataframe tbody tr th:only-of-type {\n",
       "        vertical-align: middle;\n",
       "    }\n",
       "\n",
       "    .dataframe tbody tr th {\n",
       "        vertical-align: top;\n",
       "    }\n",
       "\n",
       "    .dataframe thead th {\n",
       "        text-align: right;\n",
       "    }\n",
       "</style>\n",
       "<table border=\"1\" class=\"dataframe\">\n",
       "  <thead>\n",
       "    <tr style=\"text-align: right;\">\n",
       "      <th></th>\n",
       "      <th>Rank</th>\n",
       "      <th>Name</th>\n",
       "      <th>Age</th>\n",
       "      <th>End_Of_Watch</th>\n",
       "      <th>Day_Of_Week</th>\n",
       "      <th>Cause</th>\n",
       "      <th>Department</th>\n",
       "      <th>State</th>\n",
       "      <th>Tour</th>\n",
       "      <th>Badge</th>\n",
       "      <th>Weapon</th>\n",
       "      <th>Offender</th>\n",
       "      <th>Summary</th>\n",
       "    </tr>\n",
       "  </thead>\n",
       "  <tbody>\n",
       "    <tr>\n",
       "      <th>0</th>\n",
       "      <td>Constable</td>\n",
       "      <td>Darius Quimby</td>\n",
       "      <td>NaN</td>\n",
       "      <td>1791-01-03</td>\n",
       "      <td>Monday</td>\n",
       "      <td>Stabbed</td>\n",
       "      <td>Albany County Constable's Office, New York</td>\n",
       "      <td>New York</td>\n",
       "      <td>NaN</td>\n",
       "      <td>NaN</td>\n",
       "      <td>Edged weapon; Knife</td>\n",
       "      <td>Executed in 1791</td>\n",
       "      <td>Constable Darius Quimby was stabbed to death w...</td>\n",
       "    </tr>\n",
       "    <tr>\n",
       "      <th>1</th>\n",
       "      <td>Sheriff</td>\n",
       "      <td>Cornelius Hogeboom</td>\n",
       "      <td>53.0</td>\n",
       "      <td>1791-10-22</td>\n",
       "      <td>Saturday</td>\n",
       "      <td>Gunfire</td>\n",
       "      <td>Columbia County Sheriff's Office, New York</td>\n",
       "      <td>New York</td>\n",
       "      <td>2 years</td>\n",
       "      <td>NaN</td>\n",
       "      <td>Gun; Unknown type</td>\n",
       "      <td>Acquitted</td>\n",
       "      <td>Sheriff Cornelius Hogeboom was shot and killed...</td>\n",
       "    </tr>\n",
       "    <tr>\n",
       "      <th>2</th>\n",
       "      <td>Deputy Sheriff</td>\n",
       "      <td>Isaac Smith</td>\n",
       "      <td>NaN</td>\n",
       "      <td>1792-05-17</td>\n",
       "      <td>Thursday</td>\n",
       "      <td>Gunfire</td>\n",
       "      <td>Westchester County Sheriff's Department, New York</td>\n",
       "      <td>New York</td>\n",
       "      <td>NaN</td>\n",
       "      <td>NaN</td>\n",
       "      <td>Handgun</td>\n",
       "      <td>Executed in 1793</td>\n",
       "      <td>Deputy Sheriff Isaac Smith was shot and killed...</td>\n",
       "    </tr>\n",
       "    <tr>\n",
       "      <th>3</th>\n",
       "      <td>Marshal</td>\n",
       "      <td>Robert Forsyth</td>\n",
       "      <td>40.0</td>\n",
       "      <td>1794-01-11</td>\n",
       "      <td>Saturday</td>\n",
       "      <td>Gunfire</td>\n",
       "      <td>United States Department of Justice - United S...</td>\n",
       "      <td>United States</td>\n",
       "      <td>4 years, 4 months</td>\n",
       "      <td>4</td>\n",
       "      <td>Handgun; Pistol</td>\n",
       "      <td>Escaped</td>\n",
       "      <td>Marshal Robert Forsyth, believed to be one of ...</td>\n",
       "    </tr>\n",
       "    <tr>\n",
       "      <th>4</th>\n",
       "      <td>Deputy Sheriff</td>\n",
       "      <td>Robert Berwick</td>\n",
       "      <td>NaN</td>\n",
       "      <td>1797-06-29</td>\n",
       "      <td>Thursday</td>\n",
       "      <td>Gunfire</td>\n",
       "      <td>New York County Sheriff's Office, New York</td>\n",
       "      <td>New York</td>\n",
       "      <td>NaN</td>\n",
       "      <td>NaN</td>\n",
       "      <td>Handgun</td>\n",
       "      <td>Executed in 1797</td>\n",
       "      <td>Deputy Sheriff Robert Berwick was shot and kil...</td>\n",
       "    </tr>\n",
       "  </tbody>\n",
       "</table>\n",
       "</div>"
      ],
      "text/plain": [
       "             Rank                Name   Age End_Of_Watch Day_Of_Week    Cause  \\\n",
       "0       Constable       Darius Quimby   NaN   1791-01-03      Monday  Stabbed   \n",
       "1         Sheriff  Cornelius Hogeboom  53.0   1791-10-22    Saturday  Gunfire   \n",
       "2  Deputy Sheriff         Isaac Smith   NaN   1792-05-17    Thursday  Gunfire   \n",
       "3         Marshal      Robert Forsyth  40.0   1794-01-11    Saturday  Gunfire   \n",
       "4  Deputy Sheriff      Robert Berwick   NaN   1797-06-29    Thursday  Gunfire   \n",
       "\n",
       "                                          Department          State  \\\n",
       "0         Albany County Constable's Office, New York       New York   \n",
       "1         Columbia County Sheriff's Office, New York       New York   \n",
       "2  Westchester County Sheriff's Department, New York       New York   \n",
       "3  United States Department of Justice - United S...  United States   \n",
       "4         New York County Sheriff's Office, New York       New York   \n",
       "\n",
       "                Tour Badge               Weapon          Offender  \\\n",
       "0                NaN   NaN  Edged weapon; Knife  Executed in 1791   \n",
       "1            2 years   NaN    Gun; Unknown type         Acquitted   \n",
       "2                NaN   NaN              Handgun  Executed in 1793   \n",
       "3  4 years, 4 months     4      Handgun; Pistol           Escaped   \n",
       "4                NaN   NaN              Handgun  Executed in 1797   \n",
       "\n",
       "                                             Summary  \n",
       "0  Constable Darius Quimby was stabbed to death w...  \n",
       "1  Sheriff Cornelius Hogeboom was shot and killed...  \n",
       "2  Deputy Sheriff Isaac Smith was shot and killed...  \n",
       "3  Marshal Robert Forsyth, believed to be one of ...  \n",
       "4  Deputy Sheriff Robert Berwick was shot and kil...  "
      ]
     },
     "execution_count": 18,
     "metadata": {},
     "output_type": "execute_result"
    }
   ],
   "source": [
    "df.head()"
   ]
  },
  {
   "cell_type": "code",
   "execution_count": 19,
   "metadata": {},
   "outputs": [
    {
     "data": {
      "text/plain": [
       "Index(['Rank', 'Name', 'Age', 'End_Of_Watch', 'Day_Of_Week', 'Cause',\n",
       "       'Department', 'State', 'Tour', 'Badge', 'Weapon', 'Offender',\n",
       "       'Summary'],\n",
       "      dtype='object')"
      ]
     },
     "execution_count": 19,
     "metadata": {},
     "output_type": "execute_result"
    }
   ],
   "source": [
    "df.columns"
   ]
  },
  {
   "cell_type": "code",
   "execution_count": 41,
   "metadata": {},
   "outputs": [
    {
     "name": "stdout",
     "output_type": "stream",
     "text": [
      "Valores faltantes por columna:\n",
      "Rank                0\n",
      "Name                0\n",
      "Age                 0\n",
      "End_Of_Watch        0\n",
      "Day_Of_Week         0\n",
      "Cause               1\n",
      "Department          0\n",
      "State               0\n",
      "Tour             6206\n",
      "Badge           15703\n",
      "Weapon           8543\n",
      "Offender        10605\n",
      "Summary             0\n",
      "dtype: int64\n"
     ]
    }
   ],
   "source": [
    "print(\"Valores faltantes por columna:\")\n",
    "print(df.isnull().sum())"
   ]
  },
  {
   "cell_type": "code",
   "execution_count": 6,
   "metadata": {},
   "outputs": [
    {
     "name": "stdout",
     "output_type": "stream",
     "text": [
      "<class 'pandas.core.frame.DataFrame'>\n",
      "RangeIndex: 25623 entries, 0 to 25622\n",
      "Data columns (total 13 columns):\n",
      " #   Column        Non-Null Count  Dtype  \n",
      "---  ------        --------------  -----  \n",
      " 0   Rank          25623 non-null  object \n",
      " 1   Name          25623 non-null  object \n",
      " 2   Age           22946 non-null  float64\n",
      " 3   End_Of_Watch  25623 non-null  object \n",
      " 4   Day_Of_Week   25623 non-null  object \n",
      " 5   Cause         25622 non-null  object \n",
      " 6   Department    25623 non-null  object \n",
      " 7   State         25623 non-null  object \n",
      " 8   Tour          17417 non-null  object \n",
      " 9   Badge         7477 non-null   object \n",
      " 10  Weapon        16263 non-null  object \n",
      " 11  Offender      13803 non-null  object \n",
      " 12  Summary       25623 non-null  object \n",
      "dtypes: float64(1), object(12)\n",
      "memory usage: 2.5+ MB\n"
     ]
    }
   ],
   "source": [
    "df.info ()"
   ]
  },
  {
   "cell_type": "code",
   "execution_count": 20,
   "metadata": {},
   "outputs": [
    {
     "data": {
      "text/plain": [
       "Rank             object\n",
       "Name             object\n",
       "Age             float64\n",
       "End_Of_Watch     object\n",
       "Day_Of_Week      object\n",
       "Cause            object\n",
       "Department       object\n",
       "State            object\n",
       "Tour             object\n",
       "Badge            object\n",
       "Weapon           object\n",
       "Offender         object\n",
       "Summary          object\n",
       "dtype: object"
      ]
     },
     "execution_count": 20,
     "metadata": {},
     "output_type": "execute_result"
    }
   ],
   "source": [
    "df.dtypes"
   ]
  },
  {
   "cell_type": "code",
   "execution_count": 22,
   "metadata": {},
   "outputs": [
    {
     "data": {
      "text/plain": [
       "Rank                0\n",
       "Name                0\n",
       "Age              2677\n",
       "End_Of_Watch        0\n",
       "Day_Of_Week         0\n",
       "Cause               1\n",
       "Department          0\n",
       "State               0\n",
       "Tour             8206\n",
       "Badge           18146\n",
       "Weapon           9360\n",
       "Offender        11820\n",
       "Summary             0\n",
       "dtype: int64"
      ]
     },
     "execution_count": 22,
     "metadata": {},
     "output_type": "execute_result"
    }
   ],
   "source": [
    "df.isna().sum()"
   ]
  },
  {
   "cell_type": "code",
   "execution_count": 23,
   "metadata": {},
   "outputs": [
    {
     "data": {
      "text/plain": [
       "0         NaN\n",
       "1        53.0\n",
       "2         NaN\n",
       "3        40.0\n",
       "4         NaN\n",
       "         ... \n",
       "25618    52.0\n",
       "25619    48.0\n",
       "25620    33.0\n",
       "25621    38.0\n",
       "25622    32.0\n",
       "Name: Age, Length: 25623, dtype: float64"
      ]
     },
     "execution_count": 23,
     "metadata": {},
     "output_type": "execute_result"
    }
   ],
   "source": [
    "df[\"Age\"]"
   ]
  },
  {
   "cell_type": "code",
   "execution_count": 26,
   "metadata": {},
   "outputs": [],
   "source": [
    "df = df.dropna(subset=['Age'])"
   ]
  },
  {
   "cell_type": "code",
   "execution_count": 27,
   "metadata": {},
   "outputs": [],
   "source": [
    "df['Age'] = df['Age'].astype(int)"
   ]
  },
  {
   "cell_type": "code",
   "execution_count": 28,
   "metadata": {},
   "outputs": [
    {
     "name": "stdout",
     "output_type": "stream",
     "text": [
      "df['Age'].astype(int)\n",
      "<class 'pandas.core.frame.DataFrame'>\n",
      "Index: 22946 entries, 1 to 25622\n",
      "Data columns (total 13 columns):\n",
      " #   Column        Non-Null Count  Dtype         \n",
      "---  ------        --------------  -----         \n",
      " 0   Rank          22946 non-null  object        \n",
      " 1   Name          22946 non-null  object        \n",
      " 2   Age           22946 non-null  int32         \n",
      " 3   End_Of_Watch  22946 non-null  datetime64[ns]\n",
      " 4   Day_Of_Week   22946 non-null  object        \n",
      " 5   Cause         22945 non-null  object        \n",
      " 6   Department    22946 non-null  object        \n",
      " 7   State         22946 non-null  object        \n",
      " 8   Tour          16740 non-null  object        \n",
      " 9   Badge         7243 non-null   object        \n",
      " 10  Weapon        14403 non-null  object        \n",
      " 11  Offender      12341 non-null  object        \n",
      " 12  Summary       22946 non-null  object        \n",
      "dtypes: datetime64[ns](1), int32(1), object(11)\n",
      "memory usage: 2.4+ MB\n",
      "None\n",
      "count    22946.000000\n",
      "mean        40.289419\n",
      "std         15.799729\n",
      "min         17.000000\n",
      "25%         31.000000\n",
      "50%         39.000000\n",
      "75%         48.000000\n",
      "max       1661.000000\n",
      "Name: Age, dtype: float64\n"
     ]
    }
   ],
   "source": [
    "print(\"df['Age'].astype(int)\")\n",
    "print(df.info())\n",
    "print(df['Age'].describe())"
   ]
  },
  {
   "cell_type": "code",
   "execution_count": 29,
   "metadata": {},
   "outputs": [
    {
     "data": {
      "text/html": [
       "<div>\n",
       "<style scoped>\n",
       "    .dataframe tbody tr th:only-of-type {\n",
       "        vertical-align: middle;\n",
       "    }\n",
       "\n",
       "    .dataframe tbody tr th {\n",
       "        vertical-align: top;\n",
       "    }\n",
       "\n",
       "    .dataframe thead th {\n",
       "        text-align: right;\n",
       "    }\n",
       "</style>\n",
       "<table border=\"1\" class=\"dataframe\">\n",
       "  <thead>\n",
       "    <tr style=\"text-align: right;\">\n",
       "      <th></th>\n",
       "      <th>Rank</th>\n",
       "      <th>Name</th>\n",
       "      <th>Age</th>\n",
       "      <th>End_Of_Watch</th>\n",
       "      <th>Day_Of_Week</th>\n",
       "      <th>Cause</th>\n",
       "      <th>Department</th>\n",
       "      <th>State</th>\n",
       "      <th>Tour</th>\n",
       "      <th>Badge</th>\n",
       "      <th>Weapon</th>\n",
       "      <th>Offender</th>\n",
       "      <th>Summary</th>\n",
       "    </tr>\n",
       "  </thead>\n",
       "  <tbody>\n",
       "    <tr>\n",
       "      <th>1</th>\n",
       "      <td>Sheriff</td>\n",
       "      <td>Cornelius Hogeboom</td>\n",
       "      <td>53</td>\n",
       "      <td>1791-10-22</td>\n",
       "      <td>Saturday</td>\n",
       "      <td>Gunfire</td>\n",
       "      <td>Columbia County Sheriff's Office, New York</td>\n",
       "      <td>New York</td>\n",
       "      <td>2 years</td>\n",
       "      <td>NaN</td>\n",
       "      <td>Gun; Unknown type</td>\n",
       "      <td>Acquitted</td>\n",
       "      <td>Sheriff Cornelius Hogeboom was shot and killed...</td>\n",
       "    </tr>\n",
       "    <tr>\n",
       "      <th>3</th>\n",
       "      <td>Marshal</td>\n",
       "      <td>Robert Forsyth</td>\n",
       "      <td>40</td>\n",
       "      <td>1794-01-11</td>\n",
       "      <td>Saturday</td>\n",
       "      <td>Gunfire</td>\n",
       "      <td>United States Department of Justice - United S...</td>\n",
       "      <td>United States</td>\n",
       "      <td>4 years, 4 months</td>\n",
       "      <td>4</td>\n",
       "      <td>Handgun; Pistol</td>\n",
       "      <td>Escaped</td>\n",
       "      <td>Marshal Robert Forsyth, believed to be one of ...</td>\n",
       "    </tr>\n",
       "    <tr>\n",
       "      <th>5</th>\n",
       "      <td>Sheriff</td>\n",
       "      <td>Robert Maxwell</td>\n",
       "      <td>45</td>\n",
       "      <td>1797-11-12</td>\n",
       "      <td>Sunday</td>\n",
       "      <td>Gunfire</td>\n",
       "      <td>Washington District Sheriff's Office, South Ca...</td>\n",
       "      <td>South Carolina</td>\n",
       "      <td>NaN</td>\n",
       "      <td>NaN</td>\n",
       "      <td>Gun; Unknown type</td>\n",
       "      <td>Acquitted</td>\n",
       "      <td>Sheriff Robert Maxwell was shot and killed aft...</td>\n",
       "    </tr>\n",
       "    <tr>\n",
       "      <th>6</th>\n",
       "      <td>Superintendent</td>\n",
       "      <td>Hilary Baker</td>\n",
       "      <td>52</td>\n",
       "      <td>1798-09-25</td>\n",
       "      <td>Tuesday</td>\n",
       "      <td>Duty related illness</td>\n",
       "      <td>Philadelphia Police Department, Pennsylvania</td>\n",
       "      <td>Pennsylvania</td>\n",
       "      <td>1 year, 4 months</td>\n",
       "      <td>SUPERINTEN</td>\n",
       "      <td>NaN</td>\n",
       "      <td>NaN</td>\n",
       "      <td>Superindentent Hilary Baker died as a result o...</td>\n",
       "    </tr>\n",
       "    <tr>\n",
       "      <th>7</th>\n",
       "      <td>High Sheriff</td>\n",
       "      <td>John Caldwell Cook</td>\n",
       "      <td>74</td>\n",
       "      <td>1804-10-16</td>\n",
       "      <td>Tuesday</td>\n",
       "      <td>Gunfire</td>\n",
       "      <td>Mecklenburg County Sheriff's Office, North Car...</td>\n",
       "      <td>North Carolina</td>\n",
       "      <td>10 months</td>\n",
       "      <td>NaN</td>\n",
       "      <td>Gun; Unknown type</td>\n",
       "      <td>NaN</td>\n",
       "      <td>High Sheriff John Cook was shot in the head an...</td>\n",
       "    </tr>\n",
       "  </tbody>\n",
       "</table>\n",
       "</div>"
      ],
      "text/plain": [
       "             Rank                Name  Age End_Of_Watch Day_Of_Week  \\\n",
       "1         Sheriff  Cornelius Hogeboom   53   1791-10-22    Saturday   \n",
       "3         Marshal      Robert Forsyth   40   1794-01-11    Saturday   \n",
       "5         Sheriff      Robert Maxwell   45   1797-11-12      Sunday   \n",
       "6  Superintendent        Hilary Baker   52   1798-09-25     Tuesday   \n",
       "7    High Sheriff  John Caldwell Cook   74   1804-10-16     Tuesday   \n",
       "\n",
       "                  Cause                                         Department  \\\n",
       "1               Gunfire         Columbia County Sheriff's Office, New York   \n",
       "3               Gunfire  United States Department of Justice - United S...   \n",
       "5               Gunfire  Washington District Sheriff's Office, South Ca...   \n",
       "6  Duty related illness       Philadelphia Police Department, Pennsylvania   \n",
       "7               Gunfire  Mecklenburg County Sheriff's Office, North Car...   \n",
       "\n",
       "            State               Tour       Badge             Weapon  \\\n",
       "1        New York            2 years         NaN  Gun; Unknown type   \n",
       "3   United States  4 years, 4 months           4    Handgun; Pistol   \n",
       "5  South Carolina                NaN         NaN  Gun; Unknown type   \n",
       "6    Pennsylvania   1 year, 4 months  SUPERINTEN                NaN   \n",
       "7  North Carolina          10 months         NaN  Gun; Unknown type   \n",
       "\n",
       "    Offender                                            Summary  \n",
       "1  Acquitted  Sheriff Cornelius Hogeboom was shot and killed...  \n",
       "3    Escaped  Marshal Robert Forsyth, believed to be one of ...  \n",
       "5  Acquitted  Sheriff Robert Maxwell was shot and killed aft...  \n",
       "6        NaN  Superindentent Hilary Baker died as a result o...  \n",
       "7        NaN  High Sheriff John Cook was shot in the head an...  "
      ]
     },
     "execution_count": 29,
     "metadata": {},
     "output_type": "execute_result"
    }
   ],
   "source": [
    "df.head()"
   ]
  },
  {
   "cell_type": "code",
   "execution_count": 30,
   "metadata": {},
   "outputs": [
    {
     "data": {
      "text/plain": [
       "1               Sheriff\n",
       "3               Marshal\n",
       "5               Sheriff\n",
       "6        Superintendent\n",
       "7          High Sheriff\n",
       "              ...      \n",
       "25618    Police Officer\n",
       "25619    Deputy Sheriff\n",
       "25620        K9 Officer\n",
       "25621        K9 Officer\n",
       "25622        K9 Officer\n",
       "Name: Rank, Length: 22946, dtype: object"
      ]
     },
     "execution_count": 30,
     "metadata": {},
     "output_type": "execute_result"
    }
   ],
   "source": [
    "df[\"Rank\"]"
   ]
  },
  {
   "cell_type": "code",
   "execution_count": 31,
   "metadata": {},
   "outputs": [],
   "source": [
    "df = df.dropna(subset=['Rank'])"
   ]
  },
  {
   "cell_type": "code",
   "execution_count": 40,
   "metadata": {},
   "outputs": [
    {
     "data": {
      "text/plain": [
       "1              New York\n",
       "3         United States\n",
       "5        South Carolina\n",
       "6          Pennsylvania\n",
       "7        North Carolina\n",
       "              ...      \n",
       "25618        Washington\n",
       "25619    North Carolina\n",
       "25620         Wisconsin\n",
       "25621    North Carolina\n",
       "25622    North Carolina\n",
       "Name: State, Length: 22946, dtype: object"
      ]
     },
     "execution_count": 40,
     "metadata": {},
     "output_type": "execute_result"
    }
   ],
   "source": [
    "df[\"State\"]"
   ]
  },
  {
   "cell_type": "code",
   "execution_count": 48,
   "metadata": {},
   "outputs": [
    {
     "data": {
      "text/html": [
       "<div>\n",
       "<style scoped>\n",
       "    .dataframe tbody tr th:only-of-type {\n",
       "        vertical-align: middle;\n",
       "    }\n",
       "\n",
       "    .dataframe tbody tr th {\n",
       "        vertical-align: top;\n",
       "    }\n",
       "\n",
       "    .dataframe thead th {\n",
       "        text-align: right;\n",
       "    }\n",
       "</style>\n",
       "<table border=\"1\" class=\"dataframe\">\n",
       "  <thead>\n",
       "    <tr style=\"text-align: right;\">\n",
       "      <th></th>\n",
       "      <th>Rank</th>\n",
       "      <th>Name</th>\n",
       "      <th>Age</th>\n",
       "      <th>End_Of_Watch</th>\n",
       "      <th>Day_Of_Week</th>\n",
       "      <th>Cause</th>\n",
       "      <th>Department</th>\n",
       "      <th>State</th>\n",
       "      <th>Tour</th>\n",
       "      <th>Badge</th>\n",
       "      <th>Weapon</th>\n",
       "      <th>Offender</th>\n",
       "      <th>Summary</th>\n",
       "    </tr>\n",
       "  </thead>\n",
       "  <tbody>\n",
       "    <tr>\n",
       "      <th>0</th>\n",
       "      <td>Constable</td>\n",
       "      <td>Darius Quimby</td>\n",
       "      <td>NaN</td>\n",
       "      <td>1791-01-03</td>\n",
       "      <td>Monday</td>\n",
       "      <td>Stabbed</td>\n",
       "      <td>Albany County Constable's Office, New York</td>\n",
       "      <td>New York</td>\n",
       "      <td>NaN</td>\n",
       "      <td>NaN</td>\n",
       "      <td>Edged weapon; Knife</td>\n",
       "      <td>Executed in 1791</td>\n",
       "      <td>Constable Darius Quimby was stabbed to death w...</td>\n",
       "    </tr>\n",
       "    <tr>\n",
       "      <th>1</th>\n",
       "      <td>Sheriff</td>\n",
       "      <td>Cornelius Hogeboom</td>\n",
       "      <td>53.0</td>\n",
       "      <td>1791-10-22</td>\n",
       "      <td>Saturday</td>\n",
       "      <td>Gunfire</td>\n",
       "      <td>Columbia County Sheriff's Office, New York</td>\n",
       "      <td>New York</td>\n",
       "      <td>2 years</td>\n",
       "      <td>NaN</td>\n",
       "      <td>Gun; Unknown type</td>\n",
       "      <td>Acquitted</td>\n",
       "      <td>Sheriff Cornelius Hogeboom was shot and killed...</td>\n",
       "    </tr>\n",
       "    <tr>\n",
       "      <th>2</th>\n",
       "      <td>Deputy Sheriff</td>\n",
       "      <td>Isaac Smith</td>\n",
       "      <td>NaN</td>\n",
       "      <td>1792-05-17</td>\n",
       "      <td>Thursday</td>\n",
       "      <td>Gunfire</td>\n",
       "      <td>Westchester County Sheriff's Department, New York</td>\n",
       "      <td>New York</td>\n",
       "      <td>NaN</td>\n",
       "      <td>NaN</td>\n",
       "      <td>Handgun</td>\n",
       "      <td>Executed in 1793</td>\n",
       "      <td>Deputy Sheriff Isaac Smith was shot and killed...</td>\n",
       "    </tr>\n",
       "    <tr>\n",
       "      <th>3</th>\n",
       "      <td>Marshal</td>\n",
       "      <td>Robert Forsyth</td>\n",
       "      <td>40.0</td>\n",
       "      <td>1794-01-11</td>\n",
       "      <td>Saturday</td>\n",
       "      <td>Gunfire</td>\n",
       "      <td>United States Department of Justice - United S...</td>\n",
       "      <td>United States</td>\n",
       "      <td>4 years, 4 months</td>\n",
       "      <td>4</td>\n",
       "      <td>Handgun; Pistol</td>\n",
       "      <td>Escaped</td>\n",
       "      <td>Marshal Robert Forsyth, believed to be one of ...</td>\n",
       "    </tr>\n",
       "    <tr>\n",
       "      <th>4</th>\n",
       "      <td>Deputy Sheriff</td>\n",
       "      <td>Robert Berwick</td>\n",
       "      <td>NaN</td>\n",
       "      <td>1797-06-29</td>\n",
       "      <td>Thursday</td>\n",
       "      <td>Gunfire</td>\n",
       "      <td>New York County Sheriff's Office, New York</td>\n",
       "      <td>New York</td>\n",
       "      <td>NaN</td>\n",
       "      <td>NaN</td>\n",
       "      <td>Handgun</td>\n",
       "      <td>Executed in 1797</td>\n",
       "      <td>Deputy Sheriff Robert Berwick was shot and kil...</td>\n",
       "    </tr>\n",
       "  </tbody>\n",
       "</table>\n",
       "</div>"
      ],
      "text/plain": [
       "             Rank                Name   Age End_Of_Watch Day_Of_Week    Cause  \\\n",
       "0       Constable       Darius Quimby   NaN   1791-01-03      Monday  Stabbed   \n",
       "1         Sheriff  Cornelius Hogeboom  53.0   1791-10-22    Saturday  Gunfire   \n",
       "2  Deputy Sheriff         Isaac Smith   NaN   1792-05-17    Thursday  Gunfire   \n",
       "3         Marshal      Robert Forsyth  40.0   1794-01-11    Saturday  Gunfire   \n",
       "4  Deputy Sheriff      Robert Berwick   NaN   1797-06-29    Thursday  Gunfire   \n",
       "\n",
       "                                          Department          State  \\\n",
       "0         Albany County Constable's Office, New York       New York   \n",
       "1         Columbia County Sheriff's Office, New York       New York   \n",
       "2  Westchester County Sheriff's Department, New York       New York   \n",
       "3  United States Department of Justice - United S...  United States   \n",
       "4         New York County Sheriff's Office, New York       New York   \n",
       "\n",
       "                Tour Badge               Weapon          Offender  \\\n",
       "0                NaN   NaN  Edged weapon; Knife  Executed in 1791   \n",
       "1            2 years   NaN    Gun; Unknown type         Acquitted   \n",
       "2                NaN   NaN              Handgun  Executed in 1793   \n",
       "3  4 years, 4 months     4      Handgun; Pistol           Escaped   \n",
       "4                NaN   NaN              Handgun  Executed in 1797   \n",
       "\n",
       "                                             Summary  \n",
       "0  Constable Darius Quimby was stabbed to death w...  \n",
       "1  Sheriff Cornelius Hogeboom was shot and killed...  \n",
       "2  Deputy Sheriff Isaac Smith was shot and killed...  \n",
       "3  Marshal Robert Forsyth, believed to be one of ...  \n",
       "4  Deputy Sheriff Robert Berwick was shot and kil...  "
      ]
     },
     "execution_count": 48,
     "metadata": {},
     "output_type": "execute_result"
    }
   ],
   "source": [
    "df.head()"
   ]
  },
  {
   "cell_type": "code",
   "execution_count": 56,
   "metadata": {},
   "outputs": [
    {
     "data": {
      "image/png": "[encoded data removed]",
      "text/plain": [
       "<Figure size 1400x800 with 1 Axes>"
      ]
     },
     "metadata": {},
     "output_type": "display_data"
    }
   ],
   "source": [
    "plt.figure(figsize=(14, 8))\n",
    "sns.countplot(data=df, x='State', order=df['State'].value_counts().index)\n",
    "plt.title('Número de Incidentes por Estado')\n",
    "plt.xlabel('Estado')\n",
    "plt.ylabel('Número de Incidentes')\n",
    "plt.xticks(rotation=90)\n",
    "plt.show()"
   ]
  },
  {
   "cell_type": "code",
   "execution_count": null,
   "metadata": {},
   "outputs": [],
   "source": []
  }
 ],
 "metadata": {
  "kernelspec": {
   "display_name": "EMIBA_24",
   "language": "python",
   "name": "python3"
  },
  "language_info": {
   "codemirror_mode": {
    "name": "ipython",
    "version": 3
   },
   "file_extension": ".py",
   "mimetype": "text/x-python",
   "name": "python",
   "nbconvert_exporter": "python",
   "pygments_lexer": "ipython3",
   "version": "3.11.9"
  }
 },
 "nbformat": 4,
 "nbformat_minor": 2
}
